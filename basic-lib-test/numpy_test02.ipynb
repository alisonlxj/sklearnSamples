{
 "cells": [
  {
   "cell_type": "code",
   "execution_count": 8,
   "metadata": {
    "collapsed": true
   },
   "outputs": [
    {
     "name": "stdout",
     "output_type": "stream",
     "text": [
      "--- copyto ---\n",
      "[1 2 4 5]\n",
      "--- reshape ---\n",
      "[[0 1]\n",
      " [2 3]\n",
      " [4 5]]\n",
      "--- ravel ---\n"
     ]
    },
    {
     "data": {
      "text/plain": "array([1, 2, 3, 4, 5, 6])"
     },
     "execution_count": 8,
     "metadata": {},
     "output_type": "execute_result"
    }
   ],
   "source": [
    "# =============================\n",
    "# 数组基本操作\n",
    "# https://www.numpy.org.cn/reference/routines/array-manipulation.html#%E5%9F%BA%E6%9C%AC%E6%93%8D%E4%BD%9C\n",
    "# =============================\n",
    "\n",
    "import numpy as np\n",
    "import pandas as pd\n",
    "from matplotlib import pyplot as plt\n",
    "\n",
    "\n",
    "# copyto 复制数组\n",
    "print('--- copyto ---')\n",
    "a = np.array([1,2,4,5])\n",
    "b = np.array([0,0,0,0])\n",
    "np.copyto(b, a)             # 同构 才能复制\n",
    "print(b)\n",
    "\n",
    "\n",
    "# reshape 在不更改数据的情况下为数组赋予新形状\n",
    "print('--- reshape ---')\n",
    "a = np.arange(6).reshape((3,2))\n",
    "print(a)\n",
    "np.reshape(a, (2, 3))\n",
    "np.reshape(np.ravel(a), (2, 3))\n",
    "\n",
    "a = np.array([[1,2,3],[4,5,6]])\n",
    "np.reshape(a, 6)                    # -1表示自主推断不指定\n",
    "\n",
    "\n",
    "\n",
    "# ravel 返回一个连续的扁平数组\n",
    "print('--- ravel ---')\n",
    "x = np.array([[1,2,3],[4,5,6]])\n",
    "np.ravel(x)                             # array([1, 2, 3, 4, 5, 6])\n"
   ]
  },
  {
   "cell_type": "code",
   "execution_count": 21,
   "outputs": [
    {
     "name": "stdout",
     "output_type": "stream",
     "text": [
      "--- moveaxis ---\n",
      "--- rollaxis ---> 向后滚动指定的轴，直到其位于给定的位置\n",
      "--- swapaxis ---> 互换数组的两个轴\n",
      "--- T ---> 转置\n",
      "--- transpose ---> 排列数组尺寸\n"
     ]
    },
    {
     "data": {
      "text/plain": "(2, 1, 3)"
     },
     "execution_count": 21,
     "metadata": {},
     "output_type": "execute_result"
    }
   ],
   "source": [
    "# moveaxis 将数组的轴移到新位置\n",
    "print('--- moveaxis ---')\n",
    "\n",
    "x = np.zeros((3, 4, 5))\n",
    "np.moveaxis(x, 0, -1).shape             # (4,5,3)       将shape中0位置移动到-1位置\n",
    "np.moveaxis(x, -1, 0).shape             # (5,3,4)       将shape中-1位置移动到0位置\n",
    "\n",
    "np.transpose(x).shape                   # (5,4,3)       # 转置\n",
    "np.swapaxes(x, 0, -1).shape             # (5,4,3)\n",
    "np.moveaxis(x, [0, 1], [-1, -2]).shape              # (5,4,3)\n",
    "np.moveaxis(x, [0, 1, 2], [-1, -2, -3]).shape       # (5,4,3)\n",
    "\n",
    "\n",
    "print('--- rollaxis ---> 向后滚动指定的轴，直到其位于给定的位置')\n",
    "print('--- swapaxis ---> 互换数组的两个轴')\n",
    "print('--- T ---> 转置')\n",
    "aa = np.ones((2,3), np.int)\n",
    "aa.T\n",
    "print('--- transpose ---> 排列数组尺寸')\n",
    "np.transpose(aa)                # transpose 默认转置\n",
    "x = np.ones((1, 2, 3))\n",
    "np.transpose(x, (1, 0, 2)).shape        # (2,1,3)\n",
    "\n"
   ],
   "metadata": {
    "collapsed": false,
    "pycharm": {
     "name": "#%%\n"
    }
   }
  },
  {
   "cell_type": "code",
   "execution_count": null,
   "outputs": [],
   "source": [
    "\n"
   ],
   "metadata": {
    "collapsed": false,
    "pycharm": {
     "name": "#%%\n"
    }
   }
  }
 ],
 "metadata": {
  "kernelspec": {
   "name": "pycharm-e1a7a9ea",
   "language": "python",
   "display_name": "PyCharm (python)"
  },
  "language_info": {
   "codemirror_mode": {
    "name": "ipython",
    "version": 2
   },
   "file_extension": ".py",
   "mimetype": "text/x-python",
   "name": "python",
   "nbconvert_exporter": "python",
   "pygments_lexer": "ipython2",
   "version": "2.7.6"
  }
 },
 "nbformat": 4,
 "nbformat_minor": 0
}