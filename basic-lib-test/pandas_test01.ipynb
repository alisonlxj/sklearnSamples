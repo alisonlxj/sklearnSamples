{
 "cells": [
  {
   "cell_type": "code",
   "execution_count": 18,
   "metadata": {
    "collapsed": true
   },
   "outputs": [
    {
     "data": {
      "text/plain": "pandas.core.series.Series"
     },
     "execution_count": 18,
     "metadata": {},
     "output_type": "execute_result"
    }
   ],
   "source": [
    "import numpy as np\n",
    "import pandas as pd\n",
    "\n",
    "s = pd.Series([1,2,3,np.nan,6,8,'423fsa'])\n",
    "s\n",
    "type(s)"
   ]
  },
  {
   "cell_type": "code",
   "execution_count": 20,
   "outputs": [
    {
     "data": {
      "text/plain": "                   A         B         C         D\n2021-07-04  0.987176 -0.055995  0.985774  0.047112\n2021-07-05  0.202527 -1.734879  0.704394  0.893768\n2021-07-06  0.339891 -0.850808 -1.202818 -0.768603\n2021-07-07  1.514653  0.745530  0.235095  1.109268\n2021-07-08  1.197852 -0.943286  0.253661 -0.761663\n2021-07-09 -0.823940 -1.047052 -1.496782 -0.125177",
      "text/html": "<div>\n<style scoped>\n    .dataframe tbody tr th:only-of-type {\n        vertical-align: middle;\n    }\n\n    .dataframe tbody tr th {\n        vertical-align: top;\n    }\n\n    .dataframe thead th {\n        text-align: right;\n    }\n</style>\n<table border=\"1\" class=\"dataframe\">\n  <thead>\n    <tr style=\"text-align: right;\">\n      <th></th>\n      <th>A</th>\n      <th>B</th>\n      <th>C</th>\n      <th>D</th>\n    </tr>\n  </thead>\n  <tbody>\n    <tr>\n      <th>2021-07-04</th>\n      <td>0.987176</td>\n      <td>-0.055995</td>\n      <td>0.985774</td>\n      <td>0.047112</td>\n    </tr>\n    <tr>\n      <th>2021-07-05</th>\n      <td>0.202527</td>\n      <td>-1.734879</td>\n      <td>0.704394</td>\n      <td>0.893768</td>\n    </tr>\n    <tr>\n      <th>2021-07-06</th>\n      <td>0.339891</td>\n      <td>-0.850808</td>\n      <td>-1.202818</td>\n      <td>-0.768603</td>\n    </tr>\n    <tr>\n      <th>2021-07-07</th>\n      <td>1.514653</td>\n      <td>0.745530</td>\n      <td>0.235095</td>\n      <td>1.109268</td>\n    </tr>\n    <tr>\n      <th>2021-07-08</th>\n      <td>1.197852</td>\n      <td>-0.943286</td>\n      <td>0.253661</td>\n      <td>-0.761663</td>\n    </tr>\n    <tr>\n      <th>2021-07-09</th>\n      <td>-0.823940</td>\n      <td>-1.047052</td>\n      <td>-1.496782</td>\n      <td>-0.125177</td>\n    </tr>\n  </tbody>\n</table>\n</div>"
     },
     "execution_count": 20,
     "metadata": {},
     "output_type": "execute_result"
    }
   ],
   "source": [
    "dates = pd.date_range('20210704', periods=6)\n",
    "dates\n",
    "\n",
    "df = pd.DataFrame(np.random.randn(6,4), index=dates, columns=list('ABCD'))\n",
    "df\n"
   ],
   "metadata": {
    "collapsed": false,
    "pycharm": {
     "name": "#%%\n"
    }
   }
  },
  {
   "cell_type": "code",
   "execution_count": 45,
   "outputs": [
    {
     "data": {
      "text/plain": "     A          B    C  D      E  foo\n0  1.0 2021-07-06  3.3  3   test  foo\n1  1.0 2021-07-06  3.3  3  train  foo\n2  1.0 2021-07-06  3.3  3   test  foo\n3  1.0 2021-07-06  3.3  3  train  foo",
      "text/html": "<div>\n<style scoped>\n    .dataframe tbody tr th:only-of-type {\n        vertical-align: middle;\n    }\n\n    .dataframe tbody tr th {\n        vertical-align: top;\n    }\n\n    .dataframe thead th {\n        text-align: right;\n    }\n</style>\n<table border=\"1\" class=\"dataframe\">\n  <thead>\n    <tr style=\"text-align: right;\">\n      <th></th>\n      <th>A</th>\n      <th>B</th>\n      <th>C</th>\n      <th>D</th>\n      <th>E</th>\n      <th>foo</th>\n    </tr>\n  </thead>\n  <tbody>\n    <tr>\n      <th>0</th>\n      <td>1.0</td>\n      <td>2021-07-06</td>\n      <td>3.3</td>\n      <td>3</td>\n      <td>test</td>\n      <td>foo</td>\n    </tr>\n    <tr>\n      <th>1</th>\n      <td>1.0</td>\n      <td>2021-07-06</td>\n      <td>3.3</td>\n      <td>3</td>\n      <td>train</td>\n      <td>foo</td>\n    </tr>\n    <tr>\n      <th>2</th>\n      <td>1.0</td>\n      <td>2021-07-06</td>\n      <td>3.3</td>\n      <td>3</td>\n      <td>test</td>\n      <td>foo</td>\n    </tr>\n    <tr>\n      <th>3</th>\n      <td>1.0</td>\n      <td>2021-07-06</td>\n      <td>3.3</td>\n      <td>3</td>\n      <td>train</td>\n      <td>foo</td>\n    </tr>\n  </tbody>\n</table>\n</div>"
     },
     "execution_count": 45,
     "metadata": {},
     "output_type": "execute_result"
    }
   ],
   "source": [
    "df2 = pd.DataFrame({\n",
    "    'A': 1.,\n",
    "    'B': pd.Timestamp('20210706'),\n",
    "    'C': pd.Series(3.3, index=list(range(4)), dtype='float32'),\n",
    "    'D': np.array([3] * 4, dtype='int32'),\n",
    "    'E': pd.Categorical(['test', 'train', 'test', 'train']),\n",
    "    'foo': 'foo'\n",
    "})\n",
    "\n",
    "df2.dtypes\n",
    "\n",
    "df2.A\n",
    "\n",
    "df2"
   ],
   "metadata": {
    "collapsed": false,
    "pycharm": {
     "name": "#%%\n"
    }
   }
  },
  {
   "cell_type": "code",
   "execution_count": 50,
   "outputs": [
    {
     "data": {
      "text/plain": "                       0                    1                    2  \\\nA                      1                    1                    1   \nB    2021-07-06 00:00:00  2021-07-06 00:00:00  2021-07-06 00:00:00   \nC                    3.3                  3.3                  3.3   \nD                      3                    3                    3   \nE                   test                train                 test   \nfoo                  foo                  foo                  foo   \n\n                       3  \nA                      1  \nB    2021-07-06 00:00:00  \nC                    3.3  \nD                      3  \nE                  train  \nfoo                  foo  ",
      "text/html": "<div>\n<style scoped>\n    .dataframe tbody tr th:only-of-type {\n        vertical-align: middle;\n    }\n\n    .dataframe tbody tr th {\n        vertical-align: top;\n    }\n\n    .dataframe thead th {\n        text-align: right;\n    }\n</style>\n<table border=\"1\" class=\"dataframe\">\n  <thead>\n    <tr style=\"text-align: right;\">\n      <th></th>\n      <th>0</th>\n      <th>1</th>\n      <th>2</th>\n      <th>3</th>\n    </tr>\n  </thead>\n  <tbody>\n    <tr>\n      <th>A</th>\n      <td>1</td>\n      <td>1</td>\n      <td>1</td>\n      <td>1</td>\n    </tr>\n    <tr>\n      <th>B</th>\n      <td>2021-07-06 00:00:00</td>\n      <td>2021-07-06 00:00:00</td>\n      <td>2021-07-06 00:00:00</td>\n      <td>2021-07-06 00:00:00</td>\n    </tr>\n    <tr>\n      <th>C</th>\n      <td>3.3</td>\n      <td>3.3</td>\n      <td>3.3</td>\n      <td>3.3</td>\n    </tr>\n    <tr>\n      <th>D</th>\n      <td>3</td>\n      <td>3</td>\n      <td>3</td>\n      <td>3</td>\n    </tr>\n    <tr>\n      <th>E</th>\n      <td>test</td>\n      <td>train</td>\n      <td>test</td>\n      <td>train</td>\n    </tr>\n    <tr>\n      <th>foo</th>\n      <td>foo</td>\n      <td>foo</td>\n      <td>foo</td>\n      <td>foo</td>\n    </tr>\n  </tbody>\n</table>\n</div>"
     },
     "execution_count": 50,
     "metadata": {},
     "output_type": "execute_result"
    }
   ],
   "source": [
    "df2.head(2)\n",
    "df2.tail(2)\n",
    "df2.columns\n",
    "df2.index\n",
    "\n",
    "df.index\n",
    "\n",
    "# 快速查看 每个数值型 column 的 统计摘要 (count,mean,std,min...)\n",
    "df2.describe()\n",
    "\n",
    "# DataFrame.to_numpy() (opens new window)的输出不包含行索引和列标签\n",
    "df2.to_numpy()\n",
    "\n",
    "df2.T"
   ],
   "metadata": {
    "collapsed": false,
    "pycharm": {
     "name": "#%%\n"
    }
   }
  },
  {
   "cell_type": "code",
   "execution_count": 55,
   "outputs": [
    {
     "data": {
      "text/plain": "                   A         B         C         D\n2021-07-05  0.202527 -1.734879  0.704394  0.893768\n2021-07-09 -0.823940 -1.047052 -1.496782 -0.125177\n2021-07-08  1.197852 -0.943286  0.253661 -0.761663\n2021-07-06  0.339891 -0.850808 -1.202818 -0.768603\n2021-07-04  0.987176 -0.055995  0.985774  0.047112\n2021-07-07  1.514653  0.745530  0.235095  1.109268",
      "text/html": "<div>\n<style scoped>\n    .dataframe tbody tr th:only-of-type {\n        vertical-align: middle;\n    }\n\n    .dataframe tbody tr th {\n        vertical-align: top;\n    }\n\n    .dataframe thead th {\n        text-align: right;\n    }\n</style>\n<table border=\"1\" class=\"dataframe\">\n  <thead>\n    <tr style=\"text-align: right;\">\n      <th></th>\n      <th>A</th>\n      <th>B</th>\n      <th>C</th>\n      <th>D</th>\n    </tr>\n  </thead>\n  <tbody>\n    <tr>\n      <th>2021-07-05</th>\n      <td>0.202527</td>\n      <td>-1.734879</td>\n      <td>0.704394</td>\n      <td>0.893768</td>\n    </tr>\n    <tr>\n      <th>2021-07-09</th>\n      <td>-0.823940</td>\n      <td>-1.047052</td>\n      <td>-1.496782</td>\n      <td>-0.125177</td>\n    </tr>\n    <tr>\n      <th>2021-07-08</th>\n      <td>1.197852</td>\n      <td>-0.943286</td>\n      <td>0.253661</td>\n      <td>-0.761663</td>\n    </tr>\n    <tr>\n      <th>2021-07-06</th>\n      <td>0.339891</td>\n      <td>-0.850808</td>\n      <td>-1.202818</td>\n      <td>-0.768603</td>\n    </tr>\n    <tr>\n      <th>2021-07-04</th>\n      <td>0.987176</td>\n      <td>-0.055995</td>\n      <td>0.985774</td>\n      <td>0.047112</td>\n    </tr>\n    <tr>\n      <th>2021-07-07</th>\n      <td>1.514653</td>\n      <td>0.745530</td>\n      <td>0.235095</td>\n      <td>1.109268</td>\n    </tr>\n  </tbody>\n</table>\n</div>"
     },
     "execution_count": 55,
     "metadata": {},
     "output_type": "execute_result"
    }
   ],
   "source": [
    "# 按轴排序 (0index 1column)\n",
    "df.sort_index(axis=0, ascending=False)\n",
    "# 按列排序\n",
    "df.sort_values('B')"
   ],
   "metadata": {
    "collapsed": false,
    "pycharm": {
     "name": "#%%\n"
    }
   }
  },
  {
   "cell_type": "code",
   "execution_count": 73,
   "outputs": [
    {
     "data": {
      "text/plain": "                   A         B         C         D\n2021-07-05  0.202527 -1.734879  0.704394  0.893768\n2021-07-06  0.339891 -0.850808 -1.202818 -0.768603",
      "text/html": "<div>\n<style scoped>\n    .dataframe tbody tr th:only-of-type {\n        vertical-align: middle;\n    }\n\n    .dataframe tbody tr th {\n        vertical-align: top;\n    }\n\n    .dataframe thead th {\n        text-align: right;\n    }\n</style>\n<table border=\"1\" class=\"dataframe\">\n  <thead>\n    <tr style=\"text-align: right;\">\n      <th></th>\n      <th>A</th>\n      <th>B</th>\n      <th>C</th>\n      <th>D</th>\n    </tr>\n  </thead>\n  <tbody>\n    <tr>\n      <th>2021-07-05</th>\n      <td>0.202527</td>\n      <td>-1.734879</td>\n      <td>0.704394</td>\n      <td>0.893768</td>\n    </tr>\n    <tr>\n      <th>2021-07-06</th>\n      <td>0.339891</td>\n      <td>-0.850808</td>\n      <td>-1.202818</td>\n      <td>-0.768603</td>\n    </tr>\n  </tbody>\n</table>\n</div>"
     },
     "execution_count": 73,
     "metadata": {},
     "output_type": "execute_result"
    }
   ],
   "source": [
    "df['A']\n",
    "df[2:-1]\n",
    "\n",
    "df['20210705':'20210706']\n"
   ],
   "metadata": {
    "collapsed": false,
    "pycharm": {
     "name": "#%%\n"
    }
   }
  },
  {
   "cell_type": "code",
   "execution_count": 80,
   "outputs": [
    {
     "data": {
      "text/plain": "0.2025270534707176"
     },
     "execution_count": 80,
     "metadata": {},
     "output_type": "execute_result"
    }
   ],
   "source": [
    "######\n",
    "# loc 标签获取 多列数据\n",
    "# loc[index_0:index_n, [col_0, col_1, ...]]\n",
    "####\n",
    "\n",
    "# 获取某一行数据\n",
    "df.loc[dates[1]]\n",
    "\n",
    "# 所有行的 A B 列\n",
    "df.loc[:, ['A', 'B']]\n",
    "\n",
    "# 标签切片 包含行列结束点\n",
    "df.loc['20210704':'20210708', ['A', 'B']]\n",
    "\n",
    "# 对象 降维 -> DataFrame 取单行 降维为 Series对象\n",
    "df.loc['20210708', ['A', 'B']]\n",
    "\n",
    "# 单个cell -> 取标量值\n",
    "df.loc[dates[1], 'A']\n",
    "df.at[dates[1], 'A']"
   ],
   "metadata": {
    "collapsed": false,
    "pycharm": {
     "name": "#%%\n"
    }
   }
  },
  {
   "cell_type": "code",
   "execution_count": null,
   "outputs": [],
   "source": [
    "# 按位置选择\n",
    "\n",
    "\n",
    "\n"
   ],
   "metadata": {
    "collapsed": false,
    "pycharm": {
     "name": "#%%\n"
    }
   }
  }
 ],
 "metadata": {
  "kernelspec": {
   "display_name": "Python 3",
   "language": "python",
   "name": "python3"
  },
  "language_info": {
   "codemirror_mode": {
    "name": "ipython",
    "version": 2
   },
   "file_extension": ".py",
   "mimetype": "text/x-python",
   "name": "python",
   "nbconvert_exporter": "python",
   "pygments_lexer": "ipython2",
   "version": "2.7.6"
  }
 },
 "nbformat": 4,
 "nbformat_minor": 0
}