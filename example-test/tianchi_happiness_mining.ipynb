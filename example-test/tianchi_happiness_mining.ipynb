{
 "cells": [
  {
   "cell_type": "code",
   "execution_count": 1,
   "metadata": {
    "collapsed": true
   },
   "outputs": [
    {
     "name": "stdout",
     "output_type": "stream",
     "text": [
      "['id', 'happiness', 'survey_type', 'province', 'city', 'county', 'survey_time', 'gender', 'birth', 'nationality', 'religion', 'religion_freq', 'edu', 'edu_other', 'edu_status', 'edu_yr', 'income', 'political', 'join_party', 'floor_area', 'property_0', 'property_1', 'property_2', 'property_3', 'property_4', 'property_5', 'property_6', 'property_7', 'property_8', 'property_other', 'height_cm', 'weight_jin', 'health', 'health_problem', 'depression', 'hukou', 'hukou_loc', 'media_1', 'media_2', 'media_3', 'media_4', 'media_5', 'media_6', 'leisure_1', 'leisure_2', 'leisure_3', 'leisure_4', 'leisure_5', 'leisure_6', 'leisure_7', 'leisure_8', 'leisure_9', 'leisure_10', 'leisure_11', 'leisure_12', 'socialize', 'relax', 'learn', 'social_neighbor', 'social_friend', 'socia_outing', 'equity', 'class', 'class_10_before', 'class_10_after', 'class_14', 'work_exper', 'work_status', 'work_yr', 'work_type', 'work_manage', 'insur_1', 'insur_2', 'insur_3', 'insur_4', 'family_income', 'family_m', 'family_status', 'house', 'car', 'invest_0', 'invest_1', 'invest_2', 'invest_3', 'invest_4', 'invest_5', 'invest_6', 'invest_7', 'invest_8', 'invest_other', 'son', 'daughter', 'minor_child', 'marital', 'marital_1st', 's_birth', 'marital_now', 's_edu', 's_political', 's_hukou', 's_income', 's_work_exper', 's_work_status', 's_work_type', 'f_birth', 'f_edu', 'f_political', 'f_work_14', 'm_birth', 'm_edu', 'm_political', 'm_work_14', 'status_peer', 'status_3_before', 'view', 'inc_ability', 'inc_exp', 'trust_1', 'trust_2', 'trust_3', 'trust_4', 'trust_5', 'trust_6', 'trust_7', 'trust_8', 'trust_9', 'trust_10', 'trust_11', 'trust_12', 'trust_13', 'neighbor_familiarity', 'public_service_1', 'public_service_2', 'public_service_3', 'public_service_4', 'public_service_5', 'public_service_6', 'public_service_7', 'public_service_8', 'public_service_9']\n",
      "id                    int64\n",
      "happiness             int64\n",
      "survey_type           int64\n",
      "province              int64\n",
      "city                  int64\n",
      "                     ...   \n",
      "public_service_5    float64\n",
      "public_service_6      int64\n",
      "public_service_7      int64\n",
      "public_service_8      int64\n",
      "public_service_9      int64\n",
      "Length: 140, dtype: object\n"
     ]
    }
   ],
   "source": [
    "import pandas as pd\n",
    "import datetime\n",
    "# 用于判定 特征类型\n",
    "from pandas.api.types import is_numeric_dtype\n",
    "# 分类模型\n",
    "from sklearn.ensemble import RandomForestClassifier, GradientBoostingClassifier\n",
    "# 回归模型\n",
    "from sklearn.ensemble import RandomForestRegressor, GradientBoostingRegressor\n",
    "# 切分数据集\n",
    "from sklearn.model_selection import cross_val_score, train_test_split\n",
    "# 评价函数\n",
    "from sklearn.metrics import mean_squared_error\n",
    "\n",
    "\n",
    "data = pd.read_csv(\"../resources/happiness_train_complete.csv\", encoding='gb2312')\n",
    "test = pd.read_csv(\"../resources/happiness_test_complete.csv\", encoding='gb2312')\n",
    "\n",
    "print(data.columns.tolist())\n",
    "\n",
    "print(data.dtypes)"
   ]
  },
  {
   "cell_type": "code",
   "execution_count": 8,
   "outputs": [
    {
     "name": "stdout",
     "output_type": "stream",
     "text": [
      "===prat2====\n",
      "survey_time object\n",
      "['2015/8/4 14:18' '2015/7/21 15:04' '2015/7/21 13:24' '2015/7/25 17:33'\n",
      " '2015/8/10 9:50']\n",
      "edu_other object\n",
      "[nan '夜校']\n",
      "property_other object\n",
      "[nan '无产权' '已购买，但未过户' '家庭共同所有' '待办']\n",
      "invest_other object\n",
      "[nan '理财产品' '民间借贷' '银行理财' '储蓄存款']\n",
      "survey_type          1.405500\n",
      "province            15.155375\n",
      "city                42.564750\n",
      "county              70.619000\n",
      "gender               1.530000\n",
      "                      ...    \n",
      "public_service_5    62.794187\n",
      "public_service_6    67.064000\n",
      "public_service_7    66.096250\n",
      "public_service_8    65.626750\n",
      "public_service_9    67.153750\n",
      "Length: 134, dtype: float64\n",
      "Index(['survey_type', 'province', 'city', 'county', 'gender', 'birth',\n",
      "       'nationality', 'religion', 'religion_freq', 'edu',\n",
      "       ...\n",
      "       'neighbor_familiarity', 'public_service_1', 'public_service_2',\n",
      "       'public_service_3', 'public_service_4', 'public_service_5',\n",
      "       'public_service_6', 'public_service_7', 'public_service_8',\n",
      "       'public_service_9'],\n",
      "      dtype='object', length=134)\n",
      "[11 12  4  3  2  6  1 10  7 -8  8 13  9  5 14]\n"
     ]
    }
   ],
   "source": [
    "print(\"===prat2====\")\n",
    "\n",
    "features = []\n",
    "label = 'happiness'\n",
    "\n",
    "for col in data.columns:\n",
    "    if not is_numeric_dtype(data[col]):\n",
    "        print(col, data[col].dtype)\n",
    "        print(data[col].unique()[:5])\n",
    "    elif col != label and col != 'id':\n",
    "        features.append(col)\n",
    "\n",
    "\n",
    "x = data[features]\n",
    "y = data[label]\n",
    "\n",
    "print(x.mean())\n",
    "print(x.columns)\n",
    "print(x['edu'].unique())\n",
    "\n",
    "# train 训练  val 验证\n",
    "x_train, x_val, y_train, y_val = train_test_split(x, y, test_size=0.25, random_state=0)\n",
    "x_train = x_train.fillna(x.mean())\n",
    "x_val = x_val.fillna(x.mean())\n",
    "x_test = test.fillna(x.mean())\n",
    "x = x.fillna(x.mean())\n",
    "\n"
   ],
   "metadata": {
    "collapsed": false,
    "pycharm": {
     "name": "#%%\n"
    }
   }
  },
  {
   "cell_type": "code",
   "execution_count": null,
   "outputs": [],
   "source": [
    "\n"
   ],
   "metadata": {
    "collapsed": false,
    "pycharm": {
     "name": "#%%\n"
    }
   }
  }
 ],
 "metadata": {
  "kernelspec": {
   "name": "pycharm-e1a7a9ea",
   "language": "python",
   "display_name": "PyCharm (python)"
  },
  "language_info": {
   "codemirror_mode": {
    "name": "ipython",
    "version": 2
   },
   "file_extension": ".py",
   "mimetype": "text/x-python",
   "name": "python",
   "nbconvert_exporter": "python",
   "pygments_lexer": "ipython2",
   "version": "2.7.6"
  }
 },
 "nbformat": 4,
 "nbformat_minor": 0
}