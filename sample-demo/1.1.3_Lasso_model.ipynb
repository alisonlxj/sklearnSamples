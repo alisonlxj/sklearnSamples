{
 "cells": [
  {
   "cell_type": "code",
   "execution_count": 1,
   "metadata": {},
   "outputs": [],
   "source": [
    "# Lasso是拟合稀疏系数的线性模型\n",
    "# 它倾向于使用具有较少参数值的情况，有效地减少给定解决方案所依赖变量的数量\n",
    "# 因此，Lasso 及其变体是压缩感知领域的基础。 在一定条件下，它可以恢复一组非零权重的精确集（见压缩感知_断层重建）。\n",
    "\n",
    "# Lasso 类的实现使用了 coordinate descent （坐标下降算法）来拟合系数\n"
   ]
  },
  {
   "cell_type": "code",
   "execution_count": 2,
   "metadata": {},
   "outputs": [],
   "source": [
    "# https://scikit-learn.org/stable/auto_examples/linear_model/plot_lasso_and_elasticnet.html#sphx-glr-auto-examples-linear-model-plot-lasso-and-elasticnet-py\n"
   ]
  },
  {
   "cell_type": "code",
   "execution_count": 9,
   "metadata": {},
   "outputs": [
    {
     "name": "stdout",
     "output_type": "stream",
     "text": [
      "Automatically created module for IPython interactive environment\n"
     ]
    }
   ],
   "source": [
    "\n",
    "print(__doc__)\n",
    "\n",
    "\n",
    "import numpy as np\n",
    "import matplotlib.pyplot as plt\n",
    "\n",
    "from sklearn.metrics import r2_score\n",
    "\n",
    "# ##########################################\n",
    "# generate some sparse data to play with\n",
    "\n",
    "np.random.seed(42)\n",
    "\n",
    "n_samples, n_features = 50, 100\n",
    "X = np.random.randn(n_samples, n_features)\n",
    "\n",
    "idx = np.arange(n_features)\n",
    "\n",
    "# Decreasing coef w. alternated signs for visualization\n",
    "coef = (-1) ** idx * np.exp(-idx / 10)\n"
   ]
  },
  {
   "cell_type": "code",
   "execution_count": 12,
   "metadata": {},
   "outputs": [
    {
     "name": "stdout",
     "output_type": "stream",
     "text": [
      "[ 0.05868774  0.01573947 -1.72365514  1.0720574  -2.42506067 -2.05349311\n",
      " -0.76568952 -5.61060388  3.0029248  -1.80683056  2.20123171  6.61372855\n",
      " -1.17800038  0.06802314 -1.53573425  0.1122106  -1.62186833 -0.1906823\n",
      "  1.0707779   0.44898261 -2.04287716 -3.35829499  3.09247636  1.19401381\n",
      " -1.09040506  0.56876276 -1.74495231 -0.90828142  0.80771497 -2.22494833\n",
      "  0.01749412 -1.65066486 -1.8008078   3.1278658   1.42396057  2.91664859\n",
      "  1.12743261 -1.45182882 -0.98781938  4.89674593 -4.08959078 -1.57164298\n",
      "  3.35542511 -1.03076004 -2.03530214 -1.12951198 -1.07915963  2.35449225\n",
      "  0.82627719  0.58702813]\n"
     ]
    }
   ],
   "source": [
    "coef[10:] = 0     # 稀疏系数\n",
    "\n",
    "y = np.dot(X, coef)\n",
    "\n",
    "# 添加噪音\n",
    "y += 0.01 * np.random.normal(size=n_samples)"
   ]
  },
  {
   "cell_type": "code",
   "execution_count": 14,
   "metadata": {},
   "outputs": [
    {
     "name": "stdout",
     "output_type": "stream",
     "text": [
      "(25, 100) (25,)\n"
     ]
    }
   ],
   "source": [
    "# 分隔 训练集和测试集 (对半)\n",
    "n_samples = X.shape[0]\n",
    "X_train, y_train = X[:n_samples // 2], y[:n_samples // 2]\n",
    "X_test, y_test = X[n_samples // 2:], y[n_samples // 2:]\n",
    "print(X_train.shape, y_train.shape)"
   ]
  },
  {
   "cell_type": "code",
   "execution_count": 16,
   "metadata": {},
   "outputs": [
    {
     "name": "stdout",
     "output_type": "stream",
     "text": [
      "Lasso(alpha=0.1, copy_X=True, fit_intercept=True, max_iter=1000,\n",
      "      normalize=False, positive=False, precompute=False, random_state=None,\n",
      "      selection='cyclic', tol=0.0001, warm_start=False)\n",
      "[ 1.56029941 -2.57043176 -2.33043045 -1.16486059 -1.86049068 -1.36108086\n",
      " -3.05755928 -0.22077219  2.02143307  0.8140565   1.44354875 -1.11347963\n",
      " -0.01695535 -1.9757142   2.3071442  -4.83123348 -1.4765326   2.26444459\n",
      " -0.04907148 -3.17554979 -0.63821789 -0.65728607  1.89599936  0.82371127\n",
      "  0.78707098]\n",
      "0.6580638417732383\n"
     ]
    }
   ],
   "source": [
    "# Lasso 模型\n",
    "\n",
    "from sklearn.linear_model import Lasso\n",
    "\n",
    "alpha = 0.1\n",
    "lasso = Lasso(alpha=alpha)\n",
    "\n",
    "y_predict_lasso = lasso.fit(X_train, y_train).predict(X_test)\n",
    "r2_score_lasso = r2_score(y_test, y_predict_lasso)\n",
    "\n",
    "print(lasso)\n",
    "print(y_predict_lasso)\n",
    "print(r2_score_lasso)\n"
   ]
  },
  {
   "cell_type": "code",
   "execution_count": null,
   "metadata": {},
   "outputs": [],
   "source": []
  },
  {
   "cell_type": "code",
   "execution_count": null,
   "metadata": {},
   "outputs": [],
   "source": []
  }
 ],
 "metadata": {
  "kernelspec": {
   "display_name": "Python 3",
   "language": "python",
   "name": "python3"
  },
  "language_info": {
   "codemirror_mode": {
    "name": "ipython",
    "version": 3
   },
   "file_extension": ".py",
   "mimetype": "text/x-python",
   "name": "python",
   "nbconvert_exporter": "python",
   "pygments_lexer": "ipython3",
   "version": "3.7.6"
  }
 },
 "nbformat": 4,
 "nbformat_minor": 4
}
